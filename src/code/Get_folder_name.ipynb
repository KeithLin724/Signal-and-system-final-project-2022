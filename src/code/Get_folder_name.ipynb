{
 "cells": [
  {
   "cell_type": "code",
   "execution_count": 2,
   "metadata": {},
   "outputs": [],
   "source": [
    "# check the data list \n",
    "import os "
   ]
  },
  {
   "cell_type": "code",
   "execution_count": 3,
   "metadata": {},
   "outputs": [],
   "source": [
    "#save the name about the name path \n",
    "folderTree = ['CW','HT']\n",
    "dataFolder = 'src\\data'\n",
    "\n"
   ]
  },
  {
   "cell_type": "code",
   "execution_count": 4,
   "metadata": {},
   "outputs": [
    {
     "name": "stdout",
     "output_type": "stream",
     "text": [
      "False\n",
      "[WinError 3] 系統找不到指定的路徑。: 'd:\\\\Code\\\\Visual Code\\\\Python\\\\Mini project\\\\Signal and system final project\\\\src\\\\code\\\\src\\\\data\\\\CW'\n",
      "False\n",
      "[WinError 3] 系統找不到指定的路徑。: 'd:\\\\Code\\\\Visual Code\\\\Python\\\\Mini project\\\\Signal and system final project\\\\src\\\\code\\\\src\\\\data\\\\HT'\n"
     ]
    },
    {
     "ename": "",
     "evalue": "",
     "output_type": "error",
     "traceback": [
      "\u001b[1;31mThe Kernel crashed while executing code in the the current cell or a previous cell. Please review the code in the cell(s) to identify a possible cause of the failure. Click <a href='https://aka.ms/vscodeJupyterKernelCrash'>here</a> for more info. View Jupyter <a href='command:jupyter.viewOutput'>log</a> for further details."
     ]
    }
   ],
   "source": [
    "folderFileName = dict()\n",
    "for nameFolder in folderTree:\n",
    "    name = os.path.join(os.path.abspath(dataFolder), nameFolder)\n",
    "    \n",
    "    try :\n",
    "        print(os.path.exists('CW_baseline_HR.csv'))\n",
    "        '''print(os.path.isdir(name))\n",
    "        print(name)\n",
    "        if os.path.exists(name):'''\n",
    "            \n",
    "        folderFileName.update({nameFolder: os.listdir(name)})\n",
    "    except Exception as e:\n",
    "        print(e)\n",
    "        exit()"
   ]
  },
  {
   "cell_type": "code",
   "execution_count": 1,
   "metadata": {},
   "outputs": [
    {
     "ename": "NameError",
     "evalue": "name 'folderFileName' is not defined",
     "output_type": "error",
     "traceback": [
      "\u001b[1;31m---------------------------------------------------------------------------\u001b[0m",
      "\u001b[1;31mNameError\u001b[0m                                 Traceback (most recent call last)",
      "\u001b[1;32md:\\Code\\Visual Code\\Python\\Mini project\\Signal and system final project\\src\\code\\Get_folder_name.ipynb Cell 4'\u001b[0m in \u001b[0;36m<module>\u001b[1;34m\u001b[0m\n\u001b[1;32m----> <a href='vscode-notebook-cell:/d%3A/Code/Visual%20Code/Python/Mini%20project/Signal%20and%20system%20final%20project/src/code/Get_folder_name.ipynb#ch0000003?line=0'>1</a>\u001b[0m \u001b[39mprint\u001b[39m(folderFileName)\n",
      "\u001b[1;31mNameError\u001b[0m: name 'folderFileName' is not defined"
     ]
    }
   ],
   "source": [
    "print(folderFileName)"
   ]
  }
 ],
 "metadata": {
  "interpreter": {
   "hash": "1d5c1156327dacead463cc502c55ebae8ce9c8c01979cf154173ff808e75bf55"
  },
  "kernelspec": {
   "display_name": "Python 3.9.6 64-bit",
   "language": "python",
   "name": "python3"
  },
  "language_info": {
   "codemirror_mode": {
    "name": "ipython",
    "version": 3
   },
   "file_extension": ".py",
   "mimetype": "text/x-python",
   "name": "python",
   "nbconvert_exporter": "python",
   "pygments_lexer": "ipython3",
   "version": "3.9.6"
  },
  "orig_nbformat": 4
 },
 "nbformat": 4,
 "nbformat_minor": 2
}
